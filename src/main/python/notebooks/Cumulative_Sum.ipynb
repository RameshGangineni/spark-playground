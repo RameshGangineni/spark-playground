{
 "cells": [
  {
   "cell_type": "code",
   "execution_count": 1,
   "metadata": {},
   "outputs": [],
   "source": [
    "import findspark\n",
    "findspark.init('/opt/spark/2.4.4/')"
   ]
  },
  {
   "cell_type": "code",
   "execution_count": 2,
   "metadata": {},
   "outputs": [],
   "source": [
    "from pyspark.sql import SparkSession"
   ]
  },
  {
   "cell_type": "code",
   "execution_count": 3,
   "metadata": {},
   "outputs": [],
   "source": [
    "from pyspark.sql.types import StructType, StructField, StringType, IntegerType"
   ]
  },
  {
   "cell_type": "code",
   "execution_count": null,
   "metadata": {},
   "outputs": [],
   "source": [
    "'''\n",
    "input\n",
    "\n",
    "id|month   |sale|\n",
    "--|--------|----|\n",
    " 1|Jan-2019|100 |\n",
    " 2|Jan-2019|200 |\n",
    " 3|Feb-2019|500 |\n",
    " 4|Mar-2019|300 |\n",
    " 5|Mar-2019|100 |\n",
    "\n",
    "\n",
    "output\n",
    "\n",
    "+---+--------+--------------+\n",
    "| id|   month|cumilative_sum|\n",
    "+---+--------+--------------+\n",
    "|  1|Jan-2019|           100|\n",
    "|  2|Jan-2019|           300|\n",
    "|  3|Feb-2019|           500|\n",
    "|  4|Mar-2019|           300|\n",
    "|  5|Mar-2019|           400|\n",
    "+---+--------+--------------+\n",
    "'''"
   ]
  },
  {
   "cell_type": "code",
   "execution_count": 4,
   "metadata": {},
   "outputs": [],
   "source": [
    "spark = SparkSession.\\\n",
    "        builder.\\\n",
    "        appName('Cumulative_Sum'). \\\n",
    "        enableHiveSupport(). \\\n",
    "        getOrCreate()\n",
    "sc = spark.sparkContext"
   ]
  },
  {
   "cell_type": "code",
   "execution_count": 5,
   "metadata": {},
   "outputs": [],
   "source": [
    "data = [(1,'Jan-2019',100),\n",
    "       (2,'Jan-2019',200),\n",
    "       (3,'Feb-2019',500),\n",
    "       (4,'Mar-2019',300),\n",
    "       (5,'Mar-2019',100)]"
   ]
  },
  {
   "cell_type": "code",
   "execution_count": 6,
   "metadata": {},
   "outputs": [],
   "source": [
    "input_schema = StructType([\n",
    "                    StructField('id', IntegerType(), True),\n",
    "                    StructField('month', StringType(), True),\n",
    "                    StructField('sale', IntegerType(), True)\n",
    "                ])"
   ]
  },
  {
   "cell_type": "code",
   "execution_count": 7,
   "metadata": {},
   "outputs": [
    {
     "name": "stdout",
     "output_type": "stream",
     "text": [
      "+---+--------+----+\n",
      "| id|   month|sale|\n",
      "+---+--------+----+\n",
      "|  1|Jan-2019| 100|\n",
      "|  2|Jan-2019| 200|\n",
      "|  3|Feb-2019| 500|\n",
      "|  4|Mar-2019| 300|\n",
      "|  5|Mar-2019| 100|\n",
      "+---+--------+----+\n",
      "\n"
     ]
    }
   ],
   "source": [
    "df = spark.createDataFrame(data=data, schema=input_schema)\n",
    "df.show()"
   ]
  },
  {
   "cell_type": "code",
   "execution_count": 8,
   "metadata": {},
   "outputs": [],
   "source": [
    "df.createOrReplaceTempView('sales_month_cumilative')"
   ]
  },
  {
   "cell_type": "code",
   "execution_count": 11,
   "metadata": {},
   "outputs": [],
   "source": [
    "df_new = spark.sql('''\n",
    "SELECT id, month, sum(sale) over (partition by month order by id) as cumilative_sum from sales_month_cumilative order by id\n",
    "''')"
   ]
  },
  {
   "cell_type": "code",
   "execution_count": 12,
   "metadata": {},
   "outputs": [
    {
     "name": "stdout",
     "output_type": "stream",
     "text": [
      "+---+--------+--------------+\n",
      "| id|   month|cumilative_sum|\n",
      "+---+--------+--------------+\n",
      "|  1|Jan-2019|           100|\n",
      "|  2|Jan-2019|           300|\n",
      "|  3|Feb-2019|           500|\n",
      "|  4|Mar-2019|           300|\n",
      "|  5|Mar-2019|           400|\n",
      "+---+--------+--------------+\n",
      "\n"
     ]
    }
   ],
   "source": [
    "df_new.show()"
   ]
  },
  {
   "cell_type": "code",
   "execution_count": null,
   "metadata": {},
   "outputs": [],
   "source": []
  }
 ],
 "metadata": {
  "kernelspec": {
   "display_name": "Python 3",
   "language": "python",
   "name": "python3"
  },
  "language_info": {
   "codemirror_mode": {
    "name": "ipython",
    "version": 3
   },
   "file_extension": ".py",
   "mimetype": "text/x-python",
   "name": "python",
   "nbconvert_exporter": "python",
   "pygments_lexer": "ipython3",
   "version": "3.7.7"
  }
 },
 "nbformat": 4,
 "nbformat_minor": 4
}
