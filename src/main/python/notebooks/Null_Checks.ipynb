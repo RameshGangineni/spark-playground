{
 "cells": [
  {
   "cell_type": "code",
   "execution_count": 1,
   "metadata": {},
   "outputs": [],
   "source": [
    "import findspark\n",
    "findspark.init('/opt/spark/2.4.4/')"
   ]
  },
  {
   "cell_type": "code",
   "execution_count": 2,
   "metadata": {},
   "outputs": [],
   "source": [
    "from pyspark.sql import SparkSession"
   ]
  },
  {
   "cell_type": "code",
   "execution_count": 3,
   "metadata": {},
   "outputs": [],
   "source": [
    "spark = SparkSession.\\\n",
    "        builder.\\\n",
    "        appName('NULL_CHECK'). \\\n",
    "        enableHiveSupport(). \\\n",
    "        getOrCreate()\n",
    "sc = spark.sparkContext"
   ]
  },
  {
   "cell_type": "markdown",
   "metadata": {},
   "source": [
    "### Get all transaction ids where there is atlest one null value in row"
   ]
  },
  {
   "cell_type": "code",
   "execution_count": 132,
   "metadata": {},
   "outputs": [
    {
     "name": "stdout",
     "output_type": "stream",
     "text": [
      "+----------+-----------+-----+--------------+\n",
      "|      Date|Transaction| Name|Transaction_ID|\n",
      "+----------+-----------+-----+--------------+\n",
      "|29-10-2020|       null|“ABC”|          tid1|\n",
      "|29-10-2020|        124|“BCD”|          tid2|\n",
      "|30-10-2020|        125| null|          tid3|\n",
      "|30-10-2020|        125| null|          tid3|\n",
      "|      null|       null| null|          null|\n",
      "+----------+-----------+-----+--------------+\n",
      "only showing top 5 rows\n",
      "\n"
     ]
    }
   ],
   "source": [
    "df = spark.read.csv('file:///home/rameshbabug/Documents/projects/internal/spark-playground/src/data/transaction.csv', header=True)\n",
    "df.show(5)"
   ]
  },
  {
   "cell_type": "code",
   "execution_count": 133,
   "metadata": {},
   "outputs": [
    {
     "data": {
      "text/plain": [
       "16"
      ]
     },
     "execution_count": 133,
     "metadata": {},
     "output_type": "execute_result"
    }
   ],
   "source": [
    "df.count()"
   ]
  },
  {
   "cell_type": "markdown",
   "metadata": {},
   "source": [
    "#### Drop na records i.e. get all not null records"
   ]
  },
  {
   "cell_type": "code",
   "execution_count": 134,
   "metadata": {},
   "outputs": [
    {
     "name": "stdout",
     "output_type": "stream",
     "text": [
      "+--------------+\n",
      "|Transaction_ID|\n",
      "+--------------+\n",
      "|          tid2|\n",
      "|          tid4|\n",
      "|          tid6|\n",
      "|          tid7|\n",
      "|          tid9|\n",
      "+--------------+\n",
      "only showing top 5 rows\n",
      "\n"
     ]
    }
   ],
   "source": [
    "df_new = df.dropna()\n",
    "df_new.select(df['Transaction_ID']).show(5)"
   ]
  },
  {
   "cell_type": "code",
   "execution_count": 135,
   "metadata": {},
   "outputs": [
    {
     "data": {
      "text/plain": [
       "8"
      ]
     },
     "execution_count": 135,
     "metadata": {},
     "output_type": "execute_result"
    }
   ],
   "source": [
    "df_new.count()"
   ]
  },
  {
   "cell_type": "markdown",
   "metadata": {},
   "source": [
    "#### Get records with nulls"
   ]
  },
  {
   "cell_type": "code",
   "execution_count": 136,
   "metadata": {},
   "outputs": [],
   "source": [
    "from pyspark.sql.functions import col"
   ]
  },
  {
   "cell_type": "code",
   "execution_count": 137,
   "metadata": {},
   "outputs": [
    {
     "name": "stdout",
     "output_type": "stream",
     "text": [
      "root\n",
      " |-- df1_date: string (nullable = true)\n",
      " |-- df1_Transaction: string (nullable = true)\n",
      " |-- df1_Name: string (nullable = true)\n",
      " |-- df1_Transaction_ID: string (nullable = true)\n",
      "\n"
     ]
    }
   ],
   "source": [
    "# df_null_rows = \n",
    "df = df.selectExpr(\"Date as df1_date\", \"Transaction as df1_Transaction\", \"Name as df1_Name\", \"Transaction_ID as df1_Transaction_ID\")\n",
    "df.printSchema()"
   ]
  },
  {
   "cell_type": "code",
   "execution_count": 138,
   "metadata": {},
   "outputs": [
    {
     "name": "stdout",
     "output_type": "stream",
     "text": [
      "root\n",
      " |-- df2_date: string (nullable = true)\n",
      " |-- df2_Transaction: string (nullable = true)\n",
      " |-- df2_Name: string (nullable = true)\n",
      " |-- df2_Transaction_ID: string (nullable = true)\n",
      "\n"
     ]
    }
   ],
   "source": [
    "# df_null_rows = \n",
    "df_new = df_new.selectExpr(\"Date as df2_date\", \"Transaction as df2_Transaction\", \"Name as df2_Name\", \"Transaction_ID as df2_Transaction_ID\")\n",
    "df_new.printSchema()"
   ]
  },
  {
   "cell_type": "code",
   "execution_count": 139,
   "metadata": {},
   "outputs": [],
   "source": [
    "df_null_rows = df.join(df_new.alias('dn'),df['df1_Transaction_ID'] == df_new['df2_TRansaction_ID'], 'left')"
   ]
  },
  {
   "cell_type": "code",
   "execution_count": 140,
   "metadata": {},
   "outputs": [
    {
     "name": "stdout",
     "output_type": "stream",
     "text": [
      "+----------+---------------+--------+------------------+----------+---------------+--------+------------------+\n",
      "|  df1_date|df1_Transaction|df1_Name|df1_Transaction_ID|  df2_date|df2_Transaction|df2_Name|df2_Transaction_ID|\n",
      "+----------+---------------+--------+------------------+----------+---------------+--------+------------------+\n",
      "|29-10-2020|           null|   “ABC”|              tid1|      null|           null|    null|              null|\n",
      "|29-10-2020|            124|   “BCD”|              tid2|29-10-2020|            124|   “BCD”|              tid2|\n",
      "|30-10-2020|            125|    null|              tid3|      null|           null|    null|              null|\n",
      "|30-10-2020|            125|    null|              tid3|      null|           null|    null|              null|\n",
      "|      null|           null|    null|              null|      null|           null|    null|              null|\n",
      "+----------+---------------+--------+------------------+----------+---------------+--------+------------------+\n",
      "only showing top 5 rows\n",
      "\n"
     ]
    }
   ],
   "source": [
    "df_null_rows.show(5)"
   ]
  },
  {
   "cell_type": "code",
   "execution_count": 141,
   "metadata": {},
   "outputs": [
    {
     "name": "stdout",
     "output_type": "stream",
     "text": [
      "+------------------+\n",
      "|df1_Transaction_ID|\n",
      "+------------------+\n",
      "|              tid1|\n",
      "|              tid3|\n",
      "|              tid3|\n",
      "|              null|\n",
      "|              tid5|\n",
      "|              tid8|\n",
      "|             tid10|\n",
      "|             tid12|\n",
      "+------------------+\n",
      "\n"
     ]
    }
   ],
   "source": [
    "df_null_rows = df_null_rows.where('df2_Transaction_ID is null').select('df1_Transaction_ID').show()"
   ]
  },
  {
   "cell_type": "markdown",
   "metadata": {},
   "source": [
    "#### Alternative way i.e. using Spark SQL"
   ]
  },
  {
   "cell_type": "code",
   "execution_count": 79,
   "metadata": {},
   "outputs": [
    {
     "name": "stdout",
     "output_type": "stream",
     "text": [
      "+----------+-----------+-----+--------------+\n",
      "|      Date|Transaction| Name|Transaction_ID|\n",
      "+----------+-----------+-----+--------------+\n",
      "|29-10-2020|       null|“ABC”|          tid1|\n",
      "|29-10-2020|        124|“BCD”|          tid2|\n",
      "|30-10-2020|        125| null|          tid3|\n",
      "|30-10-2020|        125| null|          tid3|\n",
      "|      null|       null| null|          null|\n",
      "|30-10-2020|        126|“ABC”|          tid4|\n",
      "|      null|       null|“ABC”|          tid5|\n",
      "|30-10-2020|        128|“ABC”|          tid6|\n",
      "|30-10-2020|        129|“XYZ”|          tid7|\n",
      "|      null|        130| null|          tid8|\n",
      "|30-10-2020|        131|“ABC”|          tid9|\n",
      "|30-10-2020|       null|“ABC”|         tid10|\n",
      "|30-10-2020|        133|“ABC”|         tid11|\n",
      "|      null|       null|“XYZ”|         tid12|\n",
      "|30-10-2020|        135|“XYZ”|         tid13|\n",
      "|30-10-2020|        136|“XYZ”|         tid14|\n",
      "+----------+-----------+-----+--------------+\n",
      "\n"
     ]
    }
   ],
   "source": [
    "df.show()\n",
    "df.createOrReplaceTempView('original_df')"
   ]
  },
  {
   "cell_type": "code",
   "execution_count": 80,
   "metadata": {},
   "outputs": [
    {
     "name": "stdout",
     "output_type": "stream",
     "text": [
      "+----------+-----------+-----+--------------+\n",
      "|      Date|Transaction| Name|Transaction_ID|\n",
      "+----------+-----------+-----+--------------+\n",
      "|29-10-2020|        124|“BCD”|          tid2|\n",
      "|30-10-2020|        126|“ABC”|          tid4|\n",
      "|30-10-2020|        128|“ABC”|          tid6|\n",
      "|30-10-2020|        129|“XYZ”|          tid7|\n",
      "|30-10-2020|        131|“ABC”|          tid9|\n",
      "|30-10-2020|        133|“ABC”|         tid11|\n",
      "|30-10-2020|        135|“XYZ”|         tid13|\n",
      "|30-10-2020|        136|“XYZ”|         tid14|\n",
      "+----------+-----------+-----+--------------+\n",
      "\n"
     ]
    }
   ],
   "source": [
    "df_new.show()\n",
    "df_new.createOrReplaceTempView('not_nulls_df')"
   ]
  },
  {
   "cell_type": "code",
   "execution_count": 87,
   "metadata": {},
   "outputs": [],
   "source": [
    "df_null_rows = spark.sql('''select d.Transaction_ID from original_df d \n",
    "left join not_nulls_df dn \n",
    "on d.Transaction_ID= dn.Transaction_ID\n",
    "where dn.Transaction_ID is null''')"
   ]
  },
  {
   "cell_type": "code",
   "execution_count": 88,
   "metadata": {},
   "outputs": [
    {
     "name": "stdout",
     "output_type": "stream",
     "text": [
      "+--------------+\n",
      "|Transaction_ID|\n",
      "+--------------+\n",
      "|          tid1|\n",
      "|          tid3|\n",
      "|          tid3|\n",
      "|          null|\n",
      "|          tid5|\n",
      "|          tid8|\n",
      "|         tid10|\n",
      "|         tid12|\n",
      "+--------------+\n",
      "\n"
     ]
    }
   ],
   "source": [
    "df_null_rows.show()"
   ]
  },
  {
   "cell_type": "markdown",
   "metadata": {},
   "source": [
    "### Drop Duplicate Records"
   ]
  },
  {
   "cell_type": "code",
   "execution_count": 142,
   "metadata": {},
   "outputs": [
    {
     "name": "stdout",
     "output_type": "stream",
     "text": [
      "+----------+-----------+-----+--------------+\n",
      "|      Date|Transaction| Name|Transaction_ID|\n",
      "+----------+-----------+-----+--------------+\n",
      "|29-10-2020|       null|“ABC”|          tid1|\n",
      "|29-10-2020|        124|“BCD”|          tid2|\n",
      "|30-10-2020|        125| null|          tid3|\n",
      "|30-10-2020|        125| null|          tid3|\n",
      "|      null|       null| null|          null|\n",
      "+----------+-----------+-----+--------------+\n",
      "only showing top 5 rows\n",
      "\n"
     ]
    }
   ],
   "source": [
    "df = spark.read.csv('file:///home/rameshbabug/Documents/projects/internal/spark-playground/src/data/transaction.csv', header=True)\n",
    "df.show(5)"
   ]
  },
  {
   "cell_type": "code",
   "execution_count": 143,
   "metadata": {},
   "outputs": [
    {
     "data": {
      "text/plain": [
       "16"
      ]
     },
     "execution_count": 143,
     "metadata": {},
     "output_type": "execute_result"
    }
   ],
   "source": [
    "df.count()"
   ]
  },
  {
   "cell_type": "code",
   "execution_count": 144,
   "metadata": {},
   "outputs": [
    {
     "name": "stdout",
     "output_type": "stream",
     "text": [
      "+----------+-----------+-----+--------------+\n",
      "|      Date|Transaction| Name|Transaction_ID|\n",
      "+----------+-----------+-----+--------------+\n",
      "|      null|       null|“ABC”|          tid5|\n",
      "|      null|       null| null|          null|\n",
      "|29-10-2020|        124|“BCD”|          tid2|\n",
      "|      null|        130| null|          tid8|\n",
      "|30-10-2020|       null|“ABC”|         tid10|\n",
      "+----------+-----------+-----+--------------+\n",
      "only showing top 5 rows\n",
      "\n"
     ]
    }
   ],
   "source": [
    "df= df.drop_duplicates()\n",
    "df.show(5)"
   ]
  },
  {
   "cell_type": "code",
   "execution_count": 145,
   "metadata": {},
   "outputs": [
    {
     "data": {
      "text/plain": [
       "15"
      ]
     },
     "execution_count": 145,
     "metadata": {},
     "output_type": "execute_result"
    }
   ],
   "source": [
    "df.count()"
   ]
  },
  {
   "cell_type": "markdown",
   "metadata": {},
   "source": [
    "### Add columns not present in df2 into df1"
   ]
  },
  {
   "cell_type": "code",
   "execution_count": 185,
   "metadata": {},
   "outputs": [
    {
     "name": "stdout",
     "output_type": "stream",
     "text": [
      "root\n",
      " |-- Date: string (nullable = true)\n",
      " |-- Transaction: string (nullable = true)\n",
      " |-- Name: string (nullable = true)\n",
      " |-- Transaction_ID: string (nullable = true)\n",
      "\n"
     ]
    }
   ],
   "source": [
    "df.printSchema()"
   ]
  },
  {
   "cell_type": "code",
   "execution_count": 186,
   "metadata": {},
   "outputs": [
    {
     "name": "stdout",
     "output_type": "stream",
     "text": [
      "root\n",
      " |-- Date1: string (nullable = true)\n",
      " |-- Transaction: string (nullable = true)\n",
      " |-- Name1: string (nullable = true)\n",
      " |-- Transaction_ID: string (nullable = true)\n",
      "\n"
     ]
    }
   ],
   "source": [
    "df_new = df.dropna()\n",
    "df_new = df_new.selectExpr(\"Date as Date1\", \"Transaction\", \"Name as Name1\", \"Transaction_ID\")\n",
    "df_new.printSchema()"
   ]
  },
  {
   "cell_type": "markdown",
   "metadata": {},
   "source": [
    "#### Here Date1 and Name2 not present in df1, add those"
   ]
  },
  {
   "cell_type": "code",
   "execution_count": 187,
   "metadata": {},
   "outputs": [
    {
     "data": {
      "text/plain": [
       "['Date', 'Transaction', 'Name', 'Transaction_ID']"
      ]
     },
     "execution_count": 187,
     "metadata": {},
     "output_type": "execute_result"
    }
   ],
   "source": [
    "columns1 = df.columns\n",
    "columns1"
   ]
  },
  {
   "cell_type": "code",
   "execution_count": 188,
   "metadata": {},
   "outputs": [
    {
     "data": {
      "text/plain": [
       "['Date1', 'Transaction', 'Name1', 'Transaction_ID']"
      ]
     },
     "execution_count": 188,
     "metadata": {},
     "output_type": "execute_result"
    }
   ],
   "source": [
    "columns2 = df_new.columns\n",
    "columns2"
   ]
  },
  {
   "cell_type": "code",
   "execution_count": 189,
   "metadata": {},
   "outputs": [
    {
     "data": {
      "text/plain": [
       "['d.Date', 'd.Transaction', 'd.Name', 'd.Transaction_ID']"
      ]
     },
     "execution_count": 189,
     "metadata": {},
     "output_type": "execute_result"
    }
   ],
   "source": [
    "updated_columns1 = []\n",
    "for col in columns1:\n",
    "    updated_columns1.append('d.'+col)\n",
    "updated_columns1"
   ]
  },
  {
   "cell_type": "code",
   "execution_count": 192,
   "metadata": {},
   "outputs": [
    {
     "data": {
      "text/plain": [
       "['Date1', 'Name1', 'd.Date', 'd.Transaction', 'd.Name', 'd.Transaction_ID']"
      ]
     },
     "execution_count": 192,
     "metadata": {},
     "output_type": "execute_result"
    }
   ],
   "source": [
    "new_cols = [i for i in columns1 + columns2 if i not in columns1]\n",
    "new_cols.extend(updated_columns1)\n",
    "new_cols"
   ]
  },
  {
   "cell_type": "code",
   "execution_count": 193,
   "metadata": {},
   "outputs": [],
   "source": [
    "df_updated = df.alias('d').join(df_new.alias('d1'), 'Transaction_ID', 'left').select(new_cols)"
   ]
  },
  {
   "cell_type": "code",
   "execution_count": 194,
   "metadata": {},
   "outputs": [
    {
     "name": "stdout",
     "output_type": "stream",
     "text": [
      "+----------+-----+----------+-----------+-----+--------------+\n",
      "|     Date1|Name1|      Date|Transaction| Name|Transaction_ID|\n",
      "+----------+-----+----------+-----------+-----+--------------+\n",
      "|      null| null|      null|       null|“ABC”|          tid5|\n",
      "|      null| null|      null|       null| null|          null|\n",
      "|29-10-2020|“BCD”|29-10-2020|        124|“BCD”|          tid2|\n",
      "|      null| null|      null|        130| null|          tid8|\n",
      "|      null| null|30-10-2020|       null|“ABC”|         tid10|\n",
      "+----------+-----+----------+-----------+-----+--------------+\n",
      "only showing top 5 rows\n",
      "\n"
     ]
    }
   ],
   "source": [
    "df_updated.show(5)"
   ]
  },
  {
   "cell_type": "code",
   "execution_count": null,
   "metadata": {},
   "outputs": [],
   "source": []
  }
 ],
 "metadata": {
  "kernelspec": {
   "display_name": "Python 3",
   "language": "python",
   "name": "python3"
  },
  "language_info": {
   "codemirror_mode": {
    "name": "ipython",
    "version": 3
   },
   "file_extension": ".py",
   "mimetype": "text/x-python",
   "name": "python",
   "nbconvert_exporter": "python",
   "pygments_lexer": "ipython3",
   "version": "3.7.7"
  }
 },
 "nbformat": 4,
 "nbformat_minor": 4
}
