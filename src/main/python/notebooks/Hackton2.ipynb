{
 "cells": [
  {
   "cell_type": "code",
   "execution_count": 1,
   "metadata": {},
   "outputs": [],
   "source": [
    "import findspark\n",
    "findspark.init('/opt/spark/2.4.4/')"
   ]
  },
  {
   "cell_type": "code",
   "execution_count": 2,
   "metadata": {},
   "outputs": [],
   "source": [
    "from pyspark.sql import SparkSession"
   ]
  },
  {
   "cell_type": "code",
   "execution_count": 3,
   "metadata": {},
   "outputs": [],
   "source": [
    "from pyspark.sql.types import StructType, StructField, StringType, IntegerType"
   ]
  },
  {
   "cell_type": "code",
   "execution_count": 4,
   "metadata": {},
   "outputs": [],
   "source": [
    "spark = SparkSession.\\\n",
    "        builder.\\\n",
    "        appName('Hackton2'). \\\n",
    "        enableHiveSupport(). \\\n",
    "        getOrCreate()\n",
    "sc = spark.sparkContext"
   ]
  },
  {
   "cell_type": "code",
   "execution_count": 50,
   "metadata": {},
   "outputs": [
    {
     "name": "stdout",
     "output_type": "stream",
     "text": [
      "root\n",
      " |-- _c0: string (nullable = true)\n",
      " |-- _c1: string (nullable = true)\n",
      " |-- _c2: string (nullable = true)\n",
      " |-- _c3: string (nullable = true)\n",
      " |-- _c4: string (nullable = true)\n",
      "\n"
     ]
    }
   ],
   "source": [
    "df1 = spark.read.csv('file:///home/rameshbabug/Documents/projects/internal/spark-playground/src/data/hackton2/data1.txt')\n",
    "df1.printSchema()"
   ]
  },
  {
   "cell_type": "code",
   "execution_count": 51,
   "metadata": {},
   "outputs": [
    {
     "name": "stdout",
     "output_type": "stream",
     "text": [
      "+---+---+----------+----+----+\n",
      "|_c0|_c1|       _c2| _c3| _c4|\n",
      "+---+---+----------+----+----+\n",
      "|  1|BNG|    school|true| 100|\n",
      "|  2|HYD|    school|true| 150|\n",
      "|  3|MUM|    school|true| 200|\n",
      "|  5|HYD|restaurant|true|1500|\n",
      "+---+---+----------+----+----+\n",
      "\n"
     ]
    }
   ],
   "source": [
    "df1 = df1.filter(df1['_c3']!='false').filter(df1['_c1']!='CTY')\n",
    "df1.show()"
   ]
  },
  {
   "cell_type": "code",
   "execution_count": 52,
   "metadata": {},
   "outputs": [
    {
     "name": "stdout",
     "output_type": "stream",
     "text": [
      "root\n",
      " |-- _c0: string (nullable = true)\n",
      " |-- _c1: string (nullable = true)\n",
      " |-- _c2: string (nullable = true)\n",
      " |-- _c3: string (nullable = true)\n",
      " |-- _c4: string (nullable = true)\n",
      "\n"
     ]
    }
   ],
   "source": [
    "df2 = spark.read.csv('file:///home/rameshbabug/Documents/projects/internal/spark-playground/src/data/hackton2/data2.txt')\n",
    "df2.printSchema()"
   ]
  },
  {
   "cell_type": "code",
   "execution_count": 53,
   "metadata": {},
   "outputs": [
    {
     "name": "stdout",
     "output_type": "stream",
     "text": [
      "+---+---+----------+----+----+\n",
      "|_c0|_c1|       _c2| _c3| _c4|\n",
      "+---+---+----------+----+----+\n",
      "|  7|BNG|  hospital|true| 700|\n",
      "|  8|HYD|  hospital|true| 300|\n",
      "|  9|MUM|  hospital|true|1000|\n",
      "| 11|HYD|restaurant|true|  50|\n",
      "| 12|MUM|  hospital|true| 900|\n",
      "+---+---+----------+----+----+\n",
      "\n"
     ]
    }
   ],
   "source": [
    "df2 = df2.filter(df2['_c3']!='false').filter(df2['_c1']!='CTY')\n",
    "df2.show()"
   ]
  },
  {
   "cell_type": "code",
   "execution_count": 54,
   "metadata": {},
   "outputs": [
    {
     "name": "stdout",
     "output_type": "stream",
     "text": [
      "+---+---+----------+----+----+\n",
      "|_c0|_c1|       _c2| _c3| _c4|\n",
      "+---+---+----------+----+----+\n",
      "|  1|BNG|    school|true| 100|\n",
      "|  2|HYD|    school|true| 150|\n",
      "|  3|MUM|    school|true| 200|\n",
      "|  5|HYD|restaurant|true|1500|\n",
      "|  7|BNG|  hospital|true| 700|\n",
      "|  8|HYD|  hospital|true| 300|\n",
      "|  9|MUM|  hospital|true|1000|\n",
      "| 11|HYD|restaurant|true|  50|\n",
      "| 12|MUM|  hospital|true| 900|\n",
      "+---+---+----------+----+----+\n",
      "\n"
     ]
    }
   ],
   "source": [
    "df3 = df1.union(df2)\n",
    "df3.show()"
   ]
  },
  {
   "cell_type": "code",
   "execution_count": 73,
   "metadata": {},
   "outputs": [
    {
     "name": "stdout",
     "output_type": "stream",
     "text": [
      "BNG:school\n",
      "HYD:school,restaurant\n",
      "BNG:school | HYD:school,restaurant\n"
     ]
    }
   ],
   "source": [
    "rdd = sc.textFile('file:///home/rameshbabug/Documents/projects/internal/spark-playground/src/data/hackton2/filter.txt')\n",
    "for row in rdd.collect():\n",
    "    print(row)"
   ]
  },
  {
   "cell_type": "code",
   "execution_count": 81,
   "metadata": {},
   "outputs": [
    {
     "name": "stdout",
     "output_type": "stream",
     "text": [
      "['BNG', 'school']\n",
      "['HYD', 'school,restaurant']\n",
      "['BNG', 'school ']\n"
     ]
    }
   ],
   "source": [
    "rdd1 = rdd.map(lambda x : x.split('|')).map(lambda x: x[0].split(':'))\n",
    "for row in rdd1.collect():\n",
    "    print(row)"
   ]
  },
  {
   "cell_type": "code",
   "execution_count": null,
   "metadata": {},
   "outputs": [],
   "source": []
  }
 ],
 "metadata": {
  "kernelspec": {
   "display_name": "Python 3",
   "language": "python",
   "name": "python3"
  },
  "language_info": {
   "codemirror_mode": {
    "name": "ipython",
    "version": 3
   },
   "file_extension": ".py",
   "mimetype": "text/x-python",
   "name": "python",
   "nbconvert_exporter": "python",
   "pygments_lexer": "ipython3",
   "version": "3.7.7"
  }
 },
 "nbformat": 4,
 "nbformat_minor": 4
}
