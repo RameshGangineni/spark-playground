{
 "cells": [
  {
   "cell_type": "code",
   "execution_count": 13,
   "metadata": {},
   "outputs": [
    {
     "data": {
      "text/plain": [
       "lastException: Throwable = null\n"
      ]
     },
     "metadata": {},
     "output_type": "display_data"
    }
   ],
   "source": [
    "import org.apache.spark.sql.{SQLContext, SparkSession}\n",
    "import org.apache.spark.{SparkConf, SparkContext}"
   ]
  },
  {
   "cell_type": "code",
   "execution_count": 16,
   "metadata": {},
   "outputs": [
    {
     "ename": "Unknown Error",
     "evalue": "lastException: Throwable = null\n<console>:31: error: value bulider is not a member of object org.apache.spark.sql.SparkSession\n       val spark = SparkSession.bulider.config(\"spark.master\", \"local[2]\").getOrCreate()\n                                ^\n",
     "output_type": "error",
     "traceback": []
    }
   ],
   "source": [
    "val spark = SparkSession.bulider.config(\"spark.master\", \"local[2]\").getOrCreate()"
   ]
  },
  {
   "cell_type": "code",
   "execution_count": 17,
   "metadata": {},
   "outputs": [
    {
     "ename": "java.net.BindException",
     "evalue": "Cannot assign requested address: Service 'sparkDriver' failed after 16 retries (on a random free port)! Consider explicitly setting the appropriate binding address for the service 'sparkDriver' (for example spark.driver.bindAddress for SparkDriver) to the correct binding address.",
     "output_type": "error",
     "traceback": [
      "java.net.BindException: Cannot assign requested address: Service 'sparkDriver' failed after 16 retries (on a random free port)! Consider explicitly setting the appropriate binding address for the service 'sparkDriver' (for example spark.driver.bindAddress for SparkDriver) to the correct binding address.",
      "  at sun.nio.ch.Net.bind0(Native Method)",
      "  at sun.nio.ch.Net.bind(Net.java:433)",
      "  at sun.nio.ch.Net.bind(Net.java:425)",
      "  at sun.nio.ch.ServerSocketChannelImpl.bind(ServerSocketChannelImpl.java:220)",
      "  at io.netty.channel.socket.nio.NioServerSocketChannel.doBind(NioServerSocketChannel.java:128)",
      "  at io.netty.channel.AbstractChannel$AbstractUnsafe.bind(AbstractChannel.java:558)",
      "  at io.netty.channel.DefaultChannelPipeline$HeadContext.bind(DefaultChannelPipeline.java:1283)",
      "  at io.netty.channel.AbstractChannelHandlerContext.invokeBind(AbstractChannelHandlerContext.java:501)",
      "  at io.netty.channel.AbstractChannelHandlerContext.bind(AbstractChannelHandlerContext.java:486)",
      "  at io.netty.channel.DefaultChannelPipeline.bind(DefaultChannelPipeline.java:989)",
      "  at io.netty.channel.AbstractChannel.bind(AbstractChannel.java:254)",
      "  at io.netty.bootstrap.AbstractBootstrap$2.run(AbstractBootstrap.java:364)",
      "  at io.netty.util.concurrent.AbstractEventExecutor.safeExecute(AbstractEventExecutor.java:163)",
      "  at io.netty.util.concurrent.SingleThreadEventExecutor.runAllTasks(SingleThreadEventExecutor.java:403)",
      "  at io.netty.channel.nio.NioEventLoop.run(NioEventLoop.java:463)",
      "  at io.netty.util.concurrent.SingleThreadEventExecutor$5.run(SingleThreadEventExecutor.java:858)",
      "  at io.netty.util.concurrent.DefaultThreadFactory$DefaultRunnableDecorator.run(DefaultThreadFactory.java:138)",
      "  at java.lang.Thread.run(Thread.java:748)"
     ]
    }
   ],
   "source": [
    "val sc = spark.sparkContext"
   ]
  },
  {
   "cell_type": "code",
   "execution_count": 11,
   "metadata": {},
   "outputs": [
    {
     "ename": "java.net.BindException",
     "evalue": "Cannot assign requested address: Service 'sparkDriver' failed after 16 retries (on a random free port)! Consider explicitly setting the appropriate binding address for the service 'sparkDriver' (for example spark.driver.bindAddress for SparkDriver) to the correct binding address.",
     "output_type": "error",
     "traceback": [
      "java.net.BindException: Cannot assign requested address: Service 'sparkDriver' failed after 16 retries (on a random free port)! Consider explicitly setting the appropriate binding address for the service 'sparkDriver' (for example spark.driver.bindAddress for SparkDriver) to the correct binding address.",
      "  at sun.nio.ch.Net.bind0(Native Method)",
      "  at sun.nio.ch.Net.bind(Net.java:433)",
      "  at sun.nio.ch.Net.bind(Net.java:425)",
      "  at sun.nio.ch.ServerSocketChannelImpl.bind(ServerSocketChannelImpl.java:220)",
      "  at io.netty.channel.socket.nio.NioServerSocketChannel.doBind(NioServerSocketChannel.java:128)",
      "  at io.netty.channel.AbstractChannel$AbstractUnsafe.bind(AbstractChannel.java:558)",
      "  at io.netty.channel.DefaultChannelPipeline$HeadContext.bind(DefaultChannelPipeline.java:1283)",
      "  at io.netty.channel.AbstractChannelHandlerContext.invokeBind(AbstractChannelHandlerContext.java:501)",
      "  at io.netty.channel.AbstractChannelHandlerContext.bind(AbstractChannelHandlerContext.java:486)",
      "  at io.netty.channel.DefaultChannelPipeline.bind(DefaultChannelPipeline.java:989)",
      "  at io.netty.channel.AbstractChannel.bind(AbstractChannel.java:254)",
      "  at io.netty.bootstrap.AbstractBootstrap$2.run(AbstractBootstrap.java:364)",
      "  at io.netty.util.concurrent.AbstractEventExecutor.safeExecute(AbstractEventExecutor.java:163)",
      "  at io.netty.util.concurrent.SingleThreadEventExecutor.runAllTasks(SingleThreadEventExecutor.java:403)",
      "  at io.netty.channel.nio.NioEventLoop.run(NioEventLoop.java:463)",
      "  at io.netty.util.concurrent.SingleThreadEventExecutor$5.run(SingleThreadEventExecutor.java:858)",
      "  at io.netty.util.concurrent.DefaultThreadFactory$DefaultRunnableDecorator.run(DefaultThreadFactory.java:138)",
      "  at java.lang.Thread.run(Thread.java:748)"
     ]
    }
   ],
   "source": [
    "val inputRdd = sc.textFile(\"file:///home/rameshbabug/Documents/projects/internal/spark-playground/src/data/sample.log\")"
   ]
  },
  {
   "cell_type": "code",
   "execution_count": null,
   "metadata": {},
   "outputs": [],
   "source": []
  }
 ],
 "metadata": {
  "kernelspec": {
   "display_name": "Apache Toree - Scala",
   "language": "scala",
   "name": "apache_toree_scala"
  },
  "language_info": {
   "codemirror_mode": "text/x-scala",
   "file_extension": ".scala",
   "mimetype": "text/x-scala",
   "name": "scala",
   "pygments_lexer": "scala",
   "version": "2.11.12"
  }
 },
 "nbformat": 4,
 "nbformat_minor": 4
}
