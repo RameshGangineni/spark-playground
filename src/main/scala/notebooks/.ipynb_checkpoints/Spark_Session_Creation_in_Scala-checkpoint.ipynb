{
 "cells": [
  {
   "cell_type": "code",
   "execution_count": 1,
   "metadata": {},
   "outputs": [
    {
     "data": {
      "text/plain": [
       "Intitializing Scala interpreter ..."
      ]
     },
     "metadata": {},
     "output_type": "display_data"
    },
    {
     "data": {
      "text/plain": [
       "Spark Web UI available at http://172.17.1.157:4049\n",
       "SparkContext available as 'sc' (version = 2.4.1, master = local[*], app id = local-1557739922714)\n",
       "SparkSession available as 'spark'\n"
      ]
     },
     "metadata": {},
     "output_type": "display_data"
    },
    {
     "data": {
      "text/plain": [
       "import org.apache.spark.sql.{SQLContext, SparkSession}\n",
       "import org.apache.spark.{SparkConf, SparkContext}\n",
       "ss: org.apache.spark.sql.SparkSession = org.apache.spark.sql.SparkSession@5ff41385\n",
       "sc: org.apache.spark.SparkContext = org.apache.spark.SparkContext@23480fab\n",
       "sqlContext: org.apache.spark.sql.SQLContext = org.apache.spark.sql.SQLContext@16ce0a70\n"
      ]
     },
     "execution_count": 1,
     "metadata": {},
     "output_type": "execute_result"
    }
   ],
   "source": [
    "import org.apache.spark.sql.{SQLContext, SparkSession}\n",
    "import org.apache.spark.{SparkConf, SparkContext}\n",
    "private val conf: SparkConf = new SparkConf()\n",
    "    .setMaster(\"local\")\n",
    "    .setAppName(\"New\")\n",
    "    .set(\"spark.driver.allowMultipleContexts\", \"false\")\n",
    "    .set(\"spark.ui.enabled\", \"false\")\n",
    "val ss: SparkSession = SparkSession.builder().config(conf).enableHiveSupport().getOrCreate()\n",
    "val sc: SparkContext = ss.sparkContext\n",
    "val sqlContext: SQLContext = ss.sqlContext"
   ]
  },
  {
   "cell_type": "code",
   "execution_count": null,
   "metadata": {},
   "outputs": [],
   "source": []
  }
 ],
 "metadata": {
  "kernelspec": {
   "display_name": "spylon-kernel",
   "language": "scala",
   "name": "spylon-kernel"
  },
  "language_info": {
   "codemirror_mode": "text/x-scala",
   "file_extension": ".scala",
   "help_links": [
    {
     "text": "MetaKernel Magics",
     "url": "https://github.com/calysto/metakernel/blob/master/metakernel/magics/README.md"
    }
   ],
   "mimetype": "text/x-scala",
   "name": "scala",
   "pygments_lexer": "scala",
   "version": "0.4.1"
  }
 },
 "nbformat": 4,
 "nbformat_minor": 2
}
